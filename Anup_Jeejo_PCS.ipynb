{
  "nbformat": 4,
  "nbformat_minor": 0,
  "metadata": {
    "colab": {
      "name": "Anup_Jeejo_PCS.ipynb",
      "provenance": [],
      "collapsed_sections": []
    },
    "kernelspec": {
      "name": "python3",
      "display_name": "Python 3"
    },
    "language_info": {
      "name": "python"
    }
  },
  "cells": [
    {
      "cell_type": "code",
      "metadata": {
        "colab": {
          "base_uri": "https://localhost:8080/"
        },
        "id": "lFrFLUAamwUZ",
        "outputId": "26d17179-040f-47cd-a72a-69fe73b344fb"
      },
      "source": [
        "import requests\n",
        "#import os\n",
        "from datetime import datetime\n",
        "\n",
        "api_key = '87d845b0b6cf29baa1a73cc34b067a95'\n",
        "location = input(\"Enter the city name: \")\n",
        "\n",
        "complete_api_link = \"https://api.openweathermap.org/data/2.5/weather?q=\"+location+\"&appid=\"+api_key\n",
        "api_link = requests.get(complete_api_link)\n",
        "api_data = api_link.json()\n",
        "\n",
        "temp_city = ((api_data['main']['temp']) - 273.15)\n",
        "weather_desc = api_data['weather'][0]['description']\n",
        "hmdt = api_data['main']['humidity']\n",
        "wind_spd = api_data['wind']['speed']\n",
        "date_time = datetime.now().strftime(\"%d %b %Y | %I:%M:%S %p\")\n",
        "\n",
        "print (\"-------------------------------------------------------------\")\n",
        "print (\"Weather Stats for - {}  || {}\".format(location.upper(), date_time))\n",
        "print (\"-------------------------------------------------------------\")\n",
        "\n",
        "print (\"Current temperature is: {:.2f} deg C\".format(temp_city))\n",
        "print (\"Current weather desc  :\",weather_desc)\n",
        "print (\"Current Humidity      :\",hmdt, '%')\n",
        "print (\"Current wind speed    :\",wind_spd ,'kmph')\n",
        "\n",
        "fh = open('weather.txt', 'w')\n",
        "\n",
        "fh.write(\"-------------------------------------------------------------\\n\")\n",
        "fh.write(\"Weather Stats for - {}  || {}\".format(location.upper(), date_time) + \"\\n\")\n",
        "fh.write(\"-------------------------------------------------------------\\n\")\n",
        "fh.write(\"Current temperature is: {:.2f} deg C\".format(temp_city) + \"\\n\")\n",
        "fh.write(\"Current weather desc  :\" + weather_desc + \"\\n\")\n",
        "fh.write(\"Current Humidity      :\" + str(hmdt) + \"% \\n\")\n",
        "fh.write(\"Current wind speed    :\" + str(wind_spd) + \"kmph\")\n",
        "\n",
        "fh.close()"
      ],
      "execution_count": 29,
      "outputs": [
        {
          "output_type": "stream",
          "text": [
            "Enter the city name: rajkot\n",
            "-------------------------------------------------------------\n",
            "Weather Stats for - RAJKOT  || 21 Jun 2021 | 06:13:42 PM\n",
            "-------------------------------------------------------------\n",
            "Current temperature is: 30.56 deg C\n",
            "Current weather desc  : scattered clouds\n",
            "Current Humidity      : 100 %\n",
            "Current wind speed    : 5.25 kmph\n"
          ],
          "name": "stdout"
        }
      ]
    }
  ]
}